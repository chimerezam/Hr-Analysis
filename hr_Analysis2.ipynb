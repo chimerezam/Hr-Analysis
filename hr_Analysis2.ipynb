{
 "cells": [
  {
   "cell_type": "code",
   "execution_count": 20,
   "id": "76179f5e-6ed4-464c-914c-e553fb858da2",
   "metadata": {},
   "outputs": [],
   "source": [
    "import pandas as pd\n",
    "import numpy as np\n",
    "import matplotlib.pyplot as plt"
   ]
  },
  {
   "cell_type": "code",
   "execution_count": 2,
   "id": "805f4a06-269b-4ab9-9d70-b77a6e4454fc",
   "metadata": {},
   "outputs": [],
   "source": [
    "hr=pd.read_csv('hrdata.csv')"
   ]
  },
  {
   "cell_type": "code",
   "execution_count": 21,
   "id": "221a75ed-ed84-4365-811b-b3162e66ead1",
   "metadata": {
    "scrolled": true
   },
   "outputs": [
    {
     "data": {
      "text/html": [
       "<div>\n",
       "<style scoped>\n",
       "    .dataframe tbody tr th:only-of-type {\n",
       "        vertical-align: middle;\n",
       "    }\n",
       "\n",
       "    .dataframe tbody tr th {\n",
       "        vertical-align: top;\n",
       "    }\n",
       "\n",
       "    .dataframe thead th {\n",
       "        text-align: right;\n",
       "    }\n",
       "</style>\n",
       "<table border=\"1\" class=\"dataframe\">\n",
       "  <thead>\n",
       "    <tr style=\"text-align: right;\">\n",
       "      <th></th>\n",
       "      <th>emp_no</th>\n",
       "      <th>gender</th>\n",
       "      <th>marital_status</th>\n",
       "      <th>age_band</th>\n",
       "      <th>age</th>\n",
       "      <th>department</th>\n",
       "      <th>education</th>\n",
       "      <th>education_field</th>\n",
       "      <th>job_role</th>\n",
       "      <th>business_travel</th>\n",
       "      <th>employee_count</th>\n",
       "      <th>attrition</th>\n",
       "      <th>attrition_label</th>\n",
       "      <th>job_satisfaction</th>\n",
       "      <th>active_employee</th>\n",
       "      <th>Has_left_work</th>\n",
       "      <th>active_workers</th>\n",
       "    </tr>\n",
       "  </thead>\n",
       "  <tbody>\n",
       "    <tr>\n",
       "      <th>0</th>\n",
       "      <td>10001</td>\n",
       "      <td>Female</td>\n",
       "      <td>Single</td>\n",
       "      <td>35 - 44</td>\n",
       "      <td>41</td>\n",
       "      <td>Sales</td>\n",
       "      <td>Associates Degree</td>\n",
       "      <td>Life Sciences</td>\n",
       "      <td>Sales Executive</td>\n",
       "      <td>Travel_Rarely</td>\n",
       "      <td>1</td>\n",
       "      <td>Yes</td>\n",
       "      <td>Ex-Employees</td>\n",
       "      <td>4</td>\n",
       "      <td>0</td>\n",
       "      <td>1</td>\n",
       "      <td>0</td>\n",
       "    </tr>\n",
       "    <tr>\n",
       "      <th>1</th>\n",
       "      <td>10002</td>\n",
       "      <td>Male</td>\n",
       "      <td>Married</td>\n",
       "      <td>45 - 54</td>\n",
       "      <td>49</td>\n",
       "      <td>R&amp;D</td>\n",
       "      <td>High School</td>\n",
       "      <td>Life Sciences</td>\n",
       "      <td>Research Scientist</td>\n",
       "      <td>Travel_Frequently</td>\n",
       "      <td>1</td>\n",
       "      <td>No</td>\n",
       "      <td>Current Employees</td>\n",
       "      <td>2</td>\n",
       "      <td>1</td>\n",
       "      <td>0</td>\n",
       "      <td>1</td>\n",
       "    </tr>\n",
       "  </tbody>\n",
       "</table>\n",
       "</div>"
      ],
      "text/plain": [
       "   emp_no  gender marital_status age_band  age department          education  \\\n",
       "0   10001  Female         Single  35 - 44   41      Sales  Associates Degree   \n",
       "1   10002    Male        Married  45 - 54   49        R&D        High School   \n",
       "\n",
       "  education_field            job_role    business_travel  employee_count  \\\n",
       "0   Life Sciences     Sales Executive      Travel_Rarely               1   \n",
       "1   Life Sciences  Research Scientist  Travel_Frequently               1   \n",
       "\n",
       "  attrition    attrition_label  job_satisfaction  active_employee  \\\n",
       "0       Yes       Ex-Employees                 4                0   \n",
       "1        No  Current Employees                 2                1   \n",
       "\n",
       "   Has_left_work  active_workers  \n",
       "0              1               0  \n",
       "1              0               1  "
      ]
     },
     "execution_count": 21,
     "metadata": {},
     "output_type": "execute_result"
    }
   ],
   "source": [
    "hr.head(2)"
   ]
  },
  {
   "cell_type": "code",
   "execution_count": 93,
   "id": "68fbbb37-9a7e-42cc-9793-d61471981e76",
   "metadata": {},
   "outputs": [
    {
     "data": {
      "text/html": [
       "<div>\n",
       "<style scoped>\n",
       "    .dataframe tbody tr th:only-of-type {\n",
       "        vertical-align: middle;\n",
       "    }\n",
       "\n",
       "    .dataframe tbody tr th {\n",
       "        vertical-align: top;\n",
       "    }\n",
       "\n",
       "    .dataframe thead th {\n",
       "        text-align: right;\n",
       "    }\n",
       "</style>\n",
       "<table border=\"1\" class=\"dataframe\">\n",
       "  <thead>\n",
       "    <tr style=\"text-align: right;\">\n",
       "      <th></th>\n",
       "      <th>emp_no</th>\n",
       "      <th>gender</th>\n",
       "      <th>marital_status</th>\n",
       "      <th>age_band</th>\n",
       "      <th>age</th>\n",
       "      <th>department</th>\n",
       "      <th>education</th>\n",
       "      <th>job_role</th>\n",
       "      <th>employee_count</th>\n",
       "      <th>attrition</th>\n",
       "      <th>job_satisfaction</th>\n",
       "      <th>active_employee</th>\n",
       "      <th>Has_left_work</th>\n",
       "      <th>active_workers</th>\n",
       "    </tr>\n",
       "  </thead>\n",
       "  <tbody>\n",
       "    <tr>\n",
       "      <th>0</th>\n",
       "      <td>10001</td>\n",
       "      <td>Female</td>\n",
       "      <td>Single</td>\n",
       "      <td>35 - 44</td>\n",
       "      <td>41</td>\n",
       "      <td>Sales</td>\n",
       "      <td>Associates Degree</td>\n",
       "      <td>Sales Executive</td>\n",
       "      <td>1</td>\n",
       "      <td>Yes</td>\n",
       "      <td>4</td>\n",
       "      <td>0</td>\n",
       "      <td>1</td>\n",
       "      <td>0</td>\n",
       "    </tr>\n",
       "    <tr>\n",
       "      <th>1</th>\n",
       "      <td>10002</td>\n",
       "      <td>Male</td>\n",
       "      <td>Married</td>\n",
       "      <td>45 - 54</td>\n",
       "      <td>49</td>\n",
       "      <td>R&amp;D</td>\n",
       "      <td>High School</td>\n",
       "      <td>Research Scientist</td>\n",
       "      <td>1</td>\n",
       "      <td>No</td>\n",
       "      <td>2</td>\n",
       "      <td>1</td>\n",
       "      <td>0</td>\n",
       "      <td>1</td>\n",
       "    </tr>\n",
       "    <tr>\n",
       "      <th>2</th>\n",
       "      <td>10003</td>\n",
       "      <td>Male</td>\n",
       "      <td>Single</td>\n",
       "      <td>35 - 44</td>\n",
       "      <td>37</td>\n",
       "      <td>R&amp;D</td>\n",
       "      <td>Associates Degree</td>\n",
       "      <td>Laboratory Technician</td>\n",
       "      <td>1</td>\n",
       "      <td>Yes</td>\n",
       "      <td>3</td>\n",
       "      <td>0</td>\n",
       "      <td>1</td>\n",
       "      <td>0</td>\n",
       "    </tr>\n",
       "  </tbody>\n",
       "</table>\n",
       "</div>"
      ],
      "text/plain": [
       "   emp_no  gender marital_status age_band  age department          education  \\\n",
       "0   10001  Female         Single  35 - 44   41      Sales  Associates Degree   \n",
       "1   10002    Male        Married  45 - 54   49        R&D        High School   \n",
       "2   10003    Male         Single  35 - 44   37        R&D  Associates Degree   \n",
       "\n",
       "                job_role  employee_count attrition  job_satisfaction  \\\n",
       "0        Sales Executive               1       Yes                 4   \n",
       "1     Research Scientist               1        No                 2   \n",
       "2  Laboratory Technician               1       Yes                 3   \n",
       "\n",
       "   active_employee  Has_left_work  active_workers  \n",
       "0                0              1               0  \n",
       "1                1              0               1  \n",
       "2                0              1               0  "
      ]
     },
     "execution_count": 93,
     "metadata": {},
     "output_type": "execute_result"
    }
   ],
   "source": [
    "hr.drop(['attrition_label','business_travel','education_field'],axis=1).head(3)"
   ]
  },
  {
   "cell_type": "code",
   "execution_count": null,
   "id": "fb8cef7f-fcd1-455b-8dfb-25356a225123",
   "metadata": {},
   "outputs": [],
   "source": [
    "hr"
   ]
  },
  {
   "cell_type": "code",
   "execution_count": 6,
   "id": "d4215870-38c7-4c9b-99bf-219744a08d6b",
   "metadata": {},
   "outputs": [
    {
     "data": {
      "text/plain": [
       "Index(['emp_no', 'gender', 'marital_status', 'age_band', 'age', 'department',\n",
       "       'education', 'education_field', 'job_role', 'business_travel',\n",
       "       'employee_count', 'attrition', 'attrition_label', 'job_satisfaction',\n",
       "       'active_employee'],\n",
       "      dtype='object')"
      ]
     },
     "execution_count": 6,
     "metadata": {},
     "output_type": "execute_result"
    }
   ],
   "source": [
    "hr.columns"
   ]
  },
  {
   "cell_type": "code",
   "execution_count": 7,
   "id": "516002e5-4b00-48dd-a2da-98a1424fa137",
   "metadata": {},
   "outputs": [
    {
     "name": "stdout",
     "output_type": "stream",
     "text": [
      "<class 'pandas.core.frame.DataFrame'>\n",
      "RangeIndex: 1470 entries, 0 to 1469\n",
      "Data columns (total 15 columns):\n",
      " #   Column            Non-Null Count  Dtype \n",
      "---  ------            --------------  ----- \n",
      " 0   emp_no            1470 non-null   int64 \n",
      " 1   gender            1470 non-null   object\n",
      " 2   marital_status    1470 non-null   object\n",
      " 3   age_band          1470 non-null   object\n",
      " 4   age               1470 non-null   int64 \n",
      " 5   department        1470 non-null   object\n",
      " 6   education         1470 non-null   object\n",
      " 7   education_field   1470 non-null   object\n",
      " 8   job_role          1470 non-null   object\n",
      " 9   business_travel   1470 non-null   object\n",
      " 10  employee_count    1470 non-null   int64 \n",
      " 11  attrition         1470 non-null   object\n",
      " 12  attrition_label   1470 non-null   object\n",
      " 13  job_satisfaction  1470 non-null   int64 \n",
      " 14  active_employee   1470 non-null   int64 \n",
      "dtypes: int64(5), object(10)\n",
      "memory usage: 172.4+ KB\n"
     ]
    }
   ],
   "source": [
    "hr.info()"
   ]
  },
  {
   "cell_type": "code",
   "execution_count": null,
   "id": "d874694d-fc7c-4f4c-8590-eaf3823aa779",
   "metadata": {},
   "outputs": [],
   "source": [
    "# Demography Analysis"
   ]
  },
  {
   "cell_type": "markdown",
   "id": "f9870be1-1466-4016-aa16-2e815ffebee6",
   "metadata": {},
   "source": [
    "GENDER ANALYSIS"
   ]
  },
  {
   "cell_type": "code",
   "execution_count": 24,
   "id": "f1fd9326-82dd-45d0-96c0-24ea6f609757",
   "metadata": {},
   "outputs": [
    {
     "data": {
      "text/plain": [
       "gender\n",
       "Female    588\n",
       "Male      882\n",
       "Name: attrition, dtype: int64"
      ]
     },
     "execution_count": 24,
     "metadata": {},
     "output_type": "execute_result"
    }
   ],
   "source": [
    "gender_attrition=hr.groupby('gender')['attrition'].count()\n",
    "gender_attrition"
   ]
  },
  {
   "cell_type": "code",
   "execution_count": 25,
   "id": "b7126f88-60c1-4312-a976-38c77c2fd33c",
   "metadata": {},
   "outputs": [
    {
     "data": {
      "text/plain": [
       "gender\n",
       "Female     87\n",
       "Male      150\n",
       "Name: Has_left_work, dtype: int32"
      ]
     },
     "execution_count": 25,
     "metadata": {},
     "output_type": "execute_result"
    }
   ],
   "source": [
    "No_of_gender_attrited=hr.groupby('gender')['Has_left_work'].sum()\n",
    "No_of_gender_attrited"
   ]
  },
  {
   "cell_type": "code",
   "execution_count": 26,
   "id": "69bb9dcb-35d9-4eba-bda5-42d861942c0d",
   "metadata": {
    "scrolled": true
   },
   "outputs": [
    {
     "data": {
      "text/plain": [
       "gender\n",
       "Female    14.80\n",
       "Male      17.01\n",
       "dtype: float64"
      ]
     },
     "execution_count": 26,
     "metadata": {},
     "output_type": "execute_result"
    }
   ],
   "source": [
    "#%_of attrition by gender\n",
    "((No_of_gender_attrited/gender_attrition)*100).round(2)"
   ]
  },
  {
   "cell_type": "code",
   "execution_count": 74,
   "id": "ac3930e3-6543-48cd-8297-50a3de6837e0",
   "metadata": {},
   "outputs": [
    {
     "data": {
      "image/png": "[encoded data removed]",
      "text/plain": [
       "<Figure size 640x480 with 1 Axes>"
      ]
     },
     "metadata": {},
     "output_type": "display_data"
    }
   ],
   "source": [
    "#%_of attrition by gender\n",
    "((No_of_gender_attrited/gender_attrition)*100).round(2).plot.pie(autopct=\"%1.1f\")\n",
    "plt.title('percentage attrition distribution by Gender')\n",
    "plt.show()"
   ]
  },
  {
   "cell_type": "code",
   "execution_count": 194,
   "id": "49799462-f7c0-422b-8fff-2a0fb88dfb4e",
   "metadata": {},
   "outputs": [
    {
     "data": {
      "text/plain": [
       "attrition  gender\n",
       "No         Male      732\n",
       "           Female    501\n",
       "Yes        Male      150\n",
       "           Female     87\n",
       "Name: count, dtype: int64"
      ]
     },
     "execution_count": 194,
     "metadata": {},
     "output_type": "execute_result"
    }
   ],
   "source": [
    "#gender attrition count\n",
    "attrition_by_gender = hr.groupby('attrition')['gender'].value_counts()\n",
    "attrition_by_gender"
   ]
  },
  {
   "cell_type": "markdown",
   "id": "dcb04695-f6cd-4d0e-bfce-a4fb2e6f3abf",
   "metadata": {},
   "source": [
    "MARITAL_STATUS ANALYSIS"
   ]
  },
  {
   "cell_type": "code",
   "execution_count": 35,
   "id": "1c231d83-1b9a-43e4-9c76-47fdef64136f",
   "metadata": {},
   "outputs": [
    {
     "name": "stdout",
     "output_type": "stream",
     "text": [
      "marital_status\n",
      "Married     673\n",
      "Single      470\n",
      "Divorced    327\n",
      "Name: count, dtype: int64\n"
     ]
    }
   ],
   "source": [
    "# Marital status distribution\n",
    "marital_status_counts = hr['marital_status'].value_counts()\n",
    "print(marital_status_counts)\n"
   ]
  },
  {
   "cell_type": "code",
   "execution_count": 36,
   "id": "24d2506d-69dd-4fb3-b153-ed73bdd9c2d9",
   "metadata": {},
   "outputs": [
    {
     "data": {
      "text/plain": [
       "marital_status\n",
       "Divorced     33\n",
       "Married      84\n",
       "Single      120\n",
       "Name: Has_left_work, dtype: int32"
      ]
     },
     "execution_count": 36,
     "metadata": {},
     "output_type": "execute_result"
    }
   ],
   "source": [
    "marital_status_attrited=hr.groupby('marital_status')['Has_left_work'].sum()\n",
    "marital_status_attrited\n"
   ]
  },
  {
   "cell_type": "code",
   "execution_count": 37,
   "id": "3cc53516-63f2-49f3-8af4-62bb03e92ebc",
   "metadata": {},
   "outputs": [
    {
     "data": {
      "text/plain": [
       "marital_status\n",
       "Divorced    10.09\n",
       "Married     12.48\n",
       "Single      25.53\n",
       "dtype: float64"
      ]
     },
     "execution_count": 37,
     "metadata": {},
     "output_type": "execute_result"
    }
   ],
   "source": [
    "#matrita_status_%_of Attrition\n",
    "((marital_status_attrited/marital_status_counts)*100).round(2)"
   ]
  },
  {
   "cell_type": "code",
   "execution_count": 73,
   "id": "fc47018f-517c-4dce-b57c-fe9070a2a854",
   "metadata": {},
   "outputs": [
    {
     "data": {
      "image/png": "[encoded data removed]",
      "text/plain": [
       "<Figure size 640x480 with 1 Axes>"
      ]
     },
     "metadata": {},
     "output_type": "display_data"
    }
   ],
   "source": [
    "((marital_status_attrited/marital_status_counts)*100).round(2).plot.barh()\n",
    "plt.xlabel('%_of_attrition')\n",
    "plt.ylabel('Status')\n",
    "plt.title('attrition by marital status')\n",
    "plt.show()"
   ]
  },
  {
   "cell_type": "markdown",
   "id": "ad28d25b-66cb-49dd-8f85-f1f6738cc6f9",
   "metadata": {},
   "source": [
    "AGE BAND ANALYSIS"
   ]
  },
  {
   "cell_type": "code",
   "execution_count": 43,
   "id": "eca58bfe-2424-456b-a129-cb68ed43dfba",
   "metadata": {
    "scrolled": true
   },
   "outputs": [
    {
     "name": "stdout",
     "output_type": "stream",
     "text": [
      "age_band\n",
      "25 - 34     554\n",
      "35 - 44     505\n",
      "45 - 54     245\n",
      "Under 25     97\n",
      "Over 55      69\n",
      "Name: count, dtype: int64\n"
     ]
    }
   ],
   "source": [
    "# Age band distribution/# people living from each age_band\n",
    "age_band_counts = hr['age_band'].value_counts()\n",
    "print(age_band_counts)\n"
   ]
  },
  {
   "cell_type": "code",
   "execution_count": 42,
   "id": "f2ba08d0-29a2-4a46-ba87-7675a5862e57",
   "metadata": {
    "scrolled": true
   },
   "outputs": [
    {
     "data": {
      "text/plain": [
       "age_band\n",
       "25 - 34     112\n",
       "35 - 44      51\n",
       "45 - 54      25\n",
       "Over 55      11\n",
       "Under 25     38\n",
       "Name: Has_left_work, dtype: int32"
      ]
     },
     "execution_count": 42,
     "metadata": {},
     "output_type": "execute_result"
    }
   ],
   "source": [
    "non_active_workers=hr.groupby('age_band')['Has_left_work'].sum()\n",
    "non_active_workers"
   ]
  },
  {
   "cell_type": "code",
   "execution_count": 46,
   "id": "66b3a768-2cba-476f-9de7-8650aeee7c93",
   "metadata": {},
   "outputs": [
    {
     "data": {
      "text/plain": [
       "age_band\n",
       "25 - 34     554\n",
       "35 - 44     505\n",
       "45 - 54     245\n",
       "Over 55      69\n",
       "Under 25     97\n",
       "Name: attrition, dtype: int64"
      ]
     },
     "execution_count": 46,
     "metadata": {},
     "output_type": "execute_result"
    }
   ],
   "source": [
    "active_workers=hr.groupby('age_band')['attrition'].count()\n",
    "active_workers"
   ]
  },
  {
   "cell_type": "code",
   "execution_count": 49,
   "id": "1b5c799e-a9d4-46a7-9f97-d4105d452324",
   "metadata": {},
   "outputs": [
    {
     "data": {
      "text/plain": [
       "age_band\n",
       "35 - 44     10.0\n",
       "45 - 54     10.0\n",
       "Over 55     16.0\n",
       "25 - 34     20.0\n",
       "Under 25    39.0\n",
       "dtype: float64"
      ]
     },
     "execution_count": 49,
     "metadata": {},
     "output_type": "execute_result"
    }
   ],
   "source": [
    "# age_band with the highest % of people leaving\n",
    "((non_active_workers/active_workers)*100).round().sort_values()"
   ]
  },
  {
   "cell_type": "code",
   "execution_count": 72,
   "id": "0db3f178-0069-4905-a660-79e44a7dbf2a",
   "metadata": {},
   "outputs": [
    {
     "data": {
      "image/png": "[encoded data removed]",
      "text/plain": [
       "<Figure size 640x480 with 1 Axes>"
      ]
     },
     "metadata": {},
     "output_type": "display_data"
    }
   ],
   "source": [
    "((non_active_workers/active_workers)*100).round().sort_values().plot.barh(color='blue')\n",
    "plt.xlabel('%_of_attrition')\n",
    "plt.ylabel('age_band')\n",
    "plt.title('attrition by age_band')\n",
    "plt.show()\n"
   ]
  },
  {
   "cell_type": "code",
   "execution_count": 116,
   "id": "9caf32e6-ee84-4d85-8eeb-8334e0ac2292",
   "metadata": {},
   "outputs": [
    {
     "data": {
      "text/plain": [
       "37.0"
      ]
     },
     "execution_count": 116,
     "metadata": {},
     "output_type": "execute_result"
    }
   ],
   "source": [
    "#average age\n",
    "hr.age.mean().round()"
   ]
  },
  {
   "cell_type": "markdown",
   "id": "d99305a5-96af-44fe-bc73-5049f6ebc8be",
   "metadata": {},
   "source": [
    "EDUCATION LEVEL ANALYSIS`"
   ]
  },
  {
   "cell_type": "code",
   "execution_count": 17,
   "id": "7c7f1c6a-4e72-4b6d-acf1-fe8d5cab58c9",
   "metadata": {},
   "outputs": [
    {
     "name": "stdout",
     "output_type": "stream",
     "text": [
      "education\n",
      "Bachelor's Degree    572\n",
      "Master's Degree      398\n",
      "Associates Degree    282\n",
      "High School          170\n",
      "Doctoral Degree       48\n",
      "Name: count, dtype: int64\n"
     ]
    }
   ],
   "source": [
    "# Education level distribution\n",
    "education_counts = hr['education'].value_counts()\n",
    "print(education_counts)\n"
   ]
  },
  {
   "cell_type": "code",
   "execution_count": 13,
   "id": "806eb856-b124-4955-9724-726138d0c1c3",
   "metadata": {},
   "outputs": [
    {
     "data": {
      "text/plain": [
       "education\n",
       "Doctoral Degree       5\n",
       "High School          31\n",
       "Associates Degree    44\n",
       "Master's Degree      58\n",
       "Bachelor's Degree    99\n",
       "Name: Has_left_work, dtype: int32"
      ]
     },
     "execution_count": 13,
     "metadata": {},
     "output_type": "execute_result"
    }
   ],
   "source": [
    "No_of_workers_attrited_by_education_level=hr.groupby('education')['Has_left_work'].sum().sort_values()\n",
    "No_of_workers_attrited_by_education_level"
   ]
  },
  {
   "cell_type": "code",
   "execution_count": 19,
   "id": "cbeb6926-d96f-46db-8d9f-56053edad333",
   "metadata": {},
   "outputs": [
    {
     "data": {
      "text/plain": [
       "education\n",
       "Associates Degree    15.60\n",
       "Bachelor's Degree    17.31\n",
       "Doctoral Degree      10.42\n",
       "High School          18.24\n",
       "Master's Degree      14.57\n",
       "dtype: float64"
      ]
     },
     "execution_count": 19,
     "metadata": {},
     "output_type": "execute_result"
    }
   ],
   "source": [
    "percentage_of_education_level_attrition=((No_of_workers_attrited_by_education_level/education_counts)*100).round(2)\n",
    "percentage_of_education_level_attrition\n"
   ]
  },
  {
   "cell_type": "code",
   "execution_count": 71,
   "id": "6f5b4aa7-1dcd-42de-a368-1b9156d19318",
   "metadata": {},
   "outputs": [
    {
     "data": {
      "image/png": "[encoded data removed]",
      "text/plain": [
       "<Figure size 640x480 with 1 Axes>"
      ]
     },
     "metadata": {},
     "output_type": "display_data"
    }
   ],
   "source": [
    "((No_of_workers_attrited_by_education_level/education_counts)*100).round(2).sort_values().plot.barh()\n",
    "plt.xlabel('%_of_attrition')\n",
    "plt.ylabel('education level')\n",
    "plt.title('attrition education level')\n",
    "plt.show()"
   ]
  },
  {
   "cell_type": "markdown",
   "id": "d1ca50da-10fd-4673-a382-2b17bf84268d",
   "metadata": {},
   "source": [
    "JOB ROLE ANALYSIS"
   ]
  },
  {
   "cell_type": "code",
   "execution_count": 64,
   "id": "b6ce388e-8d1e-41ff-9184-7edd77a0ad28",
   "metadata": {
    "scrolled": true
   },
   "outputs": [
    {
     "name": "stdout",
     "output_type": "stream",
     "text": [
      "job_role\n",
      "Sales Executive              326\n",
      "Research Scientist           292\n",
      "Laboratory Technician        259\n",
      "Manufacturing Director       145\n",
      "Healthcare Representative    131\n",
      "Manager                      102\n",
      "Sales Representative          83\n",
      "Research Director             80\n",
      "Human Resources               52\n",
      "Name: count, dtype: int64\n"
     ]
    }
   ],
   "source": [
    "# Job role distribution &  people living from each job_role\n",
    "job_role_counts = hr['job_role'].value_counts()\n",
    "print(job_role_counts)\n"
   ]
  },
  {
   "cell_type": "code",
   "execution_count": 65,
   "id": "80b9e111-f017-4281-804f-58712a2c9a48",
   "metadata": {},
   "outputs": [
    {
     "data": {
      "text/plain": [
       "job_role\n",
       "Healthcare Representative     9\n",
       "Human Resources              12\n",
       "Laboratory Technician        62\n",
       "Manager                       5\n",
       "Manufacturing Director       10\n",
       "Research Director             2\n",
       "Research Scientist           47\n",
       "Sales Executive              57\n",
       "Sales Representative         33\n",
       "Name: Has_left_work, dtype: int32"
      ]
     },
     "execution_count": 65,
     "metadata": {},
     "output_type": "execute_result"
    }
   ],
   "source": [
    "count_of_attrition_workers=hr.groupby('job_role')['Has_left_work'].sum()\n",
    "count_of_attrition_workers"
   ]
  },
  {
   "cell_type": "code",
   "execution_count": 66,
   "id": "2352857b-7a2c-4fe9-b4d4-5de86895adb5",
   "metadata": {},
   "outputs": [
    {
     "data": {
      "text/plain": [
       "job_role\n",
       "Research Director             2.50\n",
       "Manager                       4.90\n",
       "Healthcare Representative     6.87\n",
       "Manufacturing Director        6.90\n",
       "Research Scientist           16.10\n",
       "Sales Executive              17.48\n",
       "Human Resources              23.08\n",
       "Laboratory Technician        23.94\n",
       "Sales Representative         39.76\n",
       "dtype: float64"
      ]
     },
     "execution_count": 66,
     "metadata": {},
     "output_type": "execute_result"
    }
   ],
   "source": [
    "((count_of_attrition_workers/job_role_counts )*100).sort_values().round(2)"
   ]
  },
  {
   "cell_type": "code",
   "execution_count": 70,
   "id": "0777591b-7c0d-46f7-b9c3-d645a668ca9f",
   "metadata": {},
   "outputs": [
    {
     "data": {
      "image/png": "[encoded data removed]",
      "text/plain": [
       "<Figure size 640x480 with 1 Axes>"
      ]
     },
     "metadata": {},
     "output_type": "display_data"
    }
   ],
   "source": [
    "((count_of_attrition_workers/job_role_counts )*100).sort_values().round(2).plot.barh()\n",
    "plt.xlabel('%_of_attrition')\n",
    "plt.ylabel('job_role')\n",
    "plt.title('attrition by Role')\n",
    "plt.show()"
   ]
  },
  {
   "cell_type": "code",
   "execution_count": 77,
   "id": "84d98939-23ba-4f6d-bbb2-83c779406c0c",
   "metadata": {},
   "outputs": [
    {
     "data": {
      "text/plain": [
       "attrition\n",
       "No     1233\n",
       "Yes     237\n",
       "Name: count, dtype: int64"
      ]
     },
     "execution_count": 77,
     "metadata": {},
     "output_type": "execute_result"
    }
   ],
   "source": [
    "#attrition count\n",
    "attrition_counts=hr.attrition.value_counts()\n",
    "attrition_counts\n"
   ]
  },
  {
   "cell_type": "code",
   "execution_count": 78,
   "id": "219201e5-aacb-4778-8327-6f88668d0bca",
   "metadata": {},
   "outputs": [],
   "source": [
    "\n",
    "attrition_percentages = (attrition_counts / attrition_counts.sum()) * 100\n"
   ]
  },
  {
   "cell_type": "code",
   "execution_count": 79,
   "id": "23d2bd25-03ab-4aa3-a269-206fbe67537a",
   "metadata": {},
   "outputs": [
    {
     "data": {
      "text/plain": [
       "attrition\n",
       "No     84.0\n",
       "Yes    16.0\n",
       "Name: count, dtype: float64"
      ]
     },
     "execution_count": 79,
     "metadata": {},
     "output_type": "execute_result"
    }
   ],
   "source": [
    "attrition_percentages.round()"
   ]
  },
  {
   "cell_type": "code",
   "execution_count": 83,
   "id": "f0fe33cf-dea4-4c28-87a3-7c586571c67e",
   "metadata": {},
   "outputs": [
    {
     "data": {
      "image/png": "[encoded data removed]",
      "text/plain": [
       "<Figure size 640x480 with 1 Axes>"
      ]
     },
     "metadata": {},
     "output_type": "display_data"
    }
   ],
   "source": [
    "attrition_percentages.round().plot.pie(autopct=\"%1.1f\")\n",
    "plt.title('attrition distribution')\n",
    "plt.show()"
   ]
  },
  {
   "cell_type": "code",
   "execution_count": 4,
   "id": "053b76b4-0e29-4ce5-a609-524da12085e9",
   "metadata": {},
   "outputs": [],
   "source": [
    "hr['Has_left_work']=np.where(hr.attrition=='Yes',1,0)"
   ]
  },
  {
   "cell_type": "code",
   "execution_count": 5,
   "id": "f0a0323b-4257-4ff1-ae20-055afc9a8388",
   "metadata": {},
   "outputs": [],
   "source": [
    "hr['active_workers']=np.where(hr.attrition=='No',1,0)"
   ]
  },
  {
   "cell_type": "markdown",
   "id": "d58054fc-6566-46b8-9f1f-2cf19c2d3a56",
   "metadata": {},
   "source": [
    "DEPARTMENT ANALYSIS"
   ]
  },
  {
   "cell_type": "code",
   "execution_count": 84,
   "id": "f9a246f0-0500-440a-87e8-8e33c382d67c",
   "metadata": {},
   "outputs": [
    {
     "data": {
      "text/plain": [
       "department\n",
       "HR        63\n",
       "R&D      961\n",
       "Sales    446\n",
       "Name: attrition, dtype: int64"
      ]
     },
     "execution_count": 84,
     "metadata": {},
     "output_type": "execute_result"
    }
   ],
   "source": [
    "# people living from each department\n",
    "hr.groupby('department')['attrition'].count()"
   ]
  },
  {
   "cell_type": "code",
   "execution_count": 85,
   "id": "8de64f5d-c763-43ea-9744-e2577c42e9de",
   "metadata": {},
   "outputs": [
    {
     "data": {
      "text/plain": [
       "department\n",
       "HR        12\n",
       "R&D      133\n",
       "Sales     92\n",
       "Name: Has_left_work, dtype: int32"
      ]
     },
     "execution_count": 85,
     "metadata": {},
     "output_type": "execute_result"
    }
   ],
   "source": [
    "Non_active_employees= hr.groupby('department')['Has_left_work'].sum()\n",
    "Non_active_employees"
   ]
  },
  {
   "cell_type": "code",
   "execution_count": 87,
   "id": "9bcf9d4f-3835-4ece-8ed4-3c852bf2e260",
   "metadata": {},
   "outputs": [
    {
     "data": {
      "text/plain": [
       "department\n",
       "HR       19.05\n",
       "R&D      13.84\n",
       "Sales    20.63\n",
       "dtype: float64"
      ]
     },
     "execution_count": 87,
     "metadata": {},
     "output_type": "execute_result"
    }
   ],
   "source": [
    "workers_attrited=((Non_active_employees/hr.groupby('department')['attrition'].count())*100).round(2)\n",
    "workers_attrited"
   ]
  },
  {
   "cell_type": "code",
   "execution_count": 90,
   "id": "da4afb77-1063-4a3f-8d33-e4955139ae22",
   "metadata": {},
   "outputs": [
    {
     "data": {
      "image/png": "[encoded data removed]",
      "text/plain": [
       "<Figure size 640x480 with 1 Axes>"
      ]
     },
     "metadata": {},
     "output_type": "display_data"
    }
   ],
   "source": [
    "((Non_active_employees/hr.groupby('department')['attrition'].count())*100).round(2).plot.pie()\n",
    "plt.title('attrition by department')\n",
    "plt.show()"
   ]
  },
  {
   "cell_type": "code",
   "execution_count": 91,
   "id": "6955073a-7a2f-4b1a-a900-aaa6b63f95b8",
   "metadata": {},
   "outputs": [
    {
     "name": "stdout",
     "output_type": "stream",
     "text": [
      "job_satisfaction\n",
      "4    459\n",
      "3    442\n",
      "1    289\n",
      "2    280\n",
      "Name: count, dtype: int64\n"
     ]
    }
   ],
   "source": [
    "# Job satisfaction distribution\n",
    "job_satisfaction_counts = hr['job_satisfaction'].value_counts()\n",
    "print(job_satisfaction_counts)\n"
   ]
  },
  {
   "cell_type": "code",
   "execution_count": 92,
   "id": "e04909fd-001a-4b4d-9802-0274e4260429",
   "metadata": {},
   "outputs": [
    {
     "name": "stdout",
     "output_type": "stream",
     "text": [
      "department\n",
      "HR       2.60\n",
      "R&D      2.73\n",
      "Sales    2.75\n",
      "Name: job_satisfaction, dtype: float64\n"
     ]
    }
   ],
   "source": [
    "# Job satisfaction by department\n",
    "job_satisfaction_by_dept = hr.groupby('department')['job_satisfaction'].mean().round(2)\n",
    "print(job_satisfaction_by_dept)\n"
   ]
  },
  {
   "cell_type": "code",
   "execution_count": null,
   "id": "4e018309-fb58-427c-8876-3bbb35d8e713",
   "metadata": {},
   "outputs": [],
   "source": []
  },
  {
   "cell_type": "code",
   "execution_count": null,
   "id": "d85920ae-a1fd-44b0-a578-bd221fd43621",
   "metadata": {},
   "outputs": [],
   "source": []
  },
  {
   "cell_type": "code",
   "execution_count": null,
   "id": "85d045a7-625f-4e8c-a546-54f41ff25b5c",
   "metadata": {},
   "outputs": [],
   "source": []
  },
  {
   "cell_type": "code",
   "execution_count": null,
   "id": "4f227455-59a8-46d5-8d2f-67575db65787",
   "metadata": {},
   "outputs": [],
   "source": []
  }
 ],
 "metadata": {
  "kernelspec": {
   "display_name": "Python 3 (ipykernel)",
   "language": "python",
   "name": "python3"
  },
  "language_info": {
   "codemirror_mode": {
    "name": "ipython",
    "version": 3
   },
   "file_extension": ".py",
   "mimetype": "text/x-python",
   "name": "python",
   "nbconvert_exporter": "python",
   "pygments_lexer": "ipython3",
   "version": "3.12.7"
  }
 },
 "nbformat": 4,
 "nbformat_minor": 5
}
